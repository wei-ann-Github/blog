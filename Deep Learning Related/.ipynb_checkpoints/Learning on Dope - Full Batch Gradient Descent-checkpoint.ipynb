{
 "cells": [
  {
   "cell_type": "markdown",
   "metadata": {},
   "source": [
    "Gradient descent is used for obtaining the parameters associated with each input vairable in machine learning algorithms (a tutorial [here](https://github.com/wei-ann-Github/Tutorial/blob/myBranch/01%20Linear%20Regression%2C%20Logisitic%20Regression%20and%20Clustering/Linear%20Regression%20-%20Final%20V2%20.ipynb)). When there are millions of parameters, such as in deep learning, if every parameter have the same learrning rate, it can take a long time for the parameters to converge as different parameters will have different gradient scales. Take the eliptical error surface below, the gradient along the green axis is gentler than that along the red axis. When the gradients are multiplied by the same learning rate to update the parameters, the magnitude of the update along the green axis is going to be smaller than the red. Reaching the minimum along the green axis is going to take longer than the red axis.\n",
    "\n",
    "<img src='http://i.imgur.com/nMp5MOD.png'/>\n",
    "\n",
    "_<div align=\"center\">Each contour line in the sketch above joins points in the error surface where the error magnitude is the same.</div>_\n",
    "\n",
    "Damping the gradient and adopting adaptive learning rates are 2 strategies to speed up gradient descent. These 2 strategies are demonstrated in this post."
   ]
  },
  {
   "cell_type": "markdown",
   "metadata": {},
   "source": [
    " A linear regression model fitted on the **Combined Cycle Power Plant** dataset from [UCI Machine Learning Rpository](http://archive.ics.uci.edu/ml/datasets/Combined+Cycle+Power+Plant) is used to demonstrate these strategies. The dataset consists of 9568 data points collected from a Combined Cycle Power Plant over 6 years (2006-2011). The features are the hourly averages of **Temperature (AT)**, **Ambient Pressure (AP)**, **Relative Humidity (RH)** and **Exhaust Vacuum**. The target variable is the **Electrical Output (PE)**."
   ]
  },
  {
   "cell_type": "markdown",
   "metadata": {},
   "source": [
    "# Load Data"
   ]
  },
  {
   "cell_type": "code",
   "execution_count": 1,
   "metadata": {
    "collapsed": false
   },
   "outputs": [
    {
     "data": {
      "text/html": [
       "<div>\n",
       "<style>\n",
       "    .dataframe thead tr:only-child th {\n",
       "        text-align: right;\n",
       "    }\n",
       "\n",
       "    .dataframe thead th {\n",
       "        text-align: left;\n",
       "    }\n",
       "\n",
       "    .dataframe tbody tr th {\n",
       "        vertical-align: top;\n",
       "    }\n",
       "</style>\n",
       "<table border=\"1\" class=\"dataframe\">\n",
       "  <thead>\n",
       "    <tr style=\"text-align: right;\">\n",
       "      <th></th>\n",
       "      <th>AT</th>\n",
       "      <th>V</th>\n",
       "      <th>AP</th>\n",
       "      <th>RH</th>\n",
       "      <th>PE</th>\n",
       "    </tr>\n",
       "  </thead>\n",
       "  <tbody>\n",
       "    <tr>\n",
       "      <th>0</th>\n",
       "      <td>14.96</td>\n",
       "      <td>41.76</td>\n",
       "      <td>1024.07</td>\n",
       "      <td>73.17</td>\n",
       "      <td>463.26</td>\n",
       "    </tr>\n",
       "    <tr>\n",
       "      <th>1</th>\n",
       "      <td>25.18</td>\n",
       "      <td>62.96</td>\n",
       "      <td>1020.04</td>\n",
       "      <td>59.08</td>\n",
       "      <td>444.37</td>\n",
       "    </tr>\n",
       "    <tr>\n",
       "      <th>2</th>\n",
       "      <td>5.11</td>\n",
       "      <td>39.40</td>\n",
       "      <td>1012.16</td>\n",
       "      <td>92.14</td>\n",
       "      <td>488.56</td>\n",
       "    </tr>\n",
       "    <tr>\n",
       "      <th>3</th>\n",
       "      <td>20.86</td>\n",
       "      <td>57.32</td>\n",
       "      <td>1010.24</td>\n",
       "      <td>76.64</td>\n",
       "      <td>446.48</td>\n",
       "    </tr>\n",
       "    <tr>\n",
       "      <th>4</th>\n",
       "      <td>10.82</td>\n",
       "      <td>37.50</td>\n",
       "      <td>1009.23</td>\n",
       "      <td>96.62</td>\n",
       "      <td>473.90</td>\n",
       "    </tr>\n",
       "  </tbody>\n",
       "</table>\n",
       "</div>"
      ],
      "text/plain": [
       "      AT      V       AP     RH      PE\n",
       "0  14.96  41.76  1024.07  73.17  463.26\n",
       "1  25.18  62.96  1020.04  59.08  444.37\n",
       "2   5.11  39.40  1012.16  92.14  488.56\n",
       "3  20.86  57.32  1010.24  76.64  446.48\n",
       "4  10.82  37.50  1009.23  96.62  473.90"
      ]
     },
     "metadata": {},
     "output_type": "display_data"
    }
   ],
   "source": [
    "import matplotlib.pyplot as plt\n",
    "from IPython.display import display\n",
    "import numpy as np\n",
    "import pandas as pd\n",
    "from sklearn.linear_model import LinearRegression\n",
    "\n",
    "%matplotlib inline\n",
    "\n",
    "fname = 'data\\Folds5x2_pp.xlsx' # the file is read from local\n",
    "\n",
    "df = pd.read_excel(fname)\n",
    "\n",
    "display(df.head());"
   ]
  },
  {
   "cell_type": "markdown",
   "metadata": {},
   "source": [
    "The results returned by sklearn are obtained by numerical means, hence are the true value of the parameters."
   ]
  },
  {
   "cell_type": "code",
   "execution_count": 2,
   "metadata": {
    "collapsed": false
   },
   "outputs": [],
   "source": [
    "y = np.array(df.PE).flatten()\n",
    "features = ['AT', 'V', 'AP', 'RH']\n",
    "# x = np.array(df[features].apply(lambda x: (x - np.mean(x))/np.std(x))) \n",
    "x = np.array(df[features])\n",
    "# the bias term is ignored.\n",
    "\n",
    "lr = LinearRegression(fit_intercept=False)\n",
    "lr.fit(x, y)\n",
    "true_params = lr.coef_"
   ]
  },
  {
   "cell_type": "markdown",
   "metadata": {},
   "source": [
    "# Gradient Descent - Baseline for Comparing Performance of Different Strategies"
   ]
  },
  {
   "cell_type": "markdown",
   "metadata": {},
   "source": [
    "Here's an implementation of gradient descent:"
   ]
  },
  {
   "cell_type": "code",
   "execution_count": 3,
   "metadata": {
    "collapsed": false
   },
   "outputs": [],
   "source": [
    "def predict(x, params0):\n",
    "    return x.dot(params0)\n",
    "\n",
    "def error(y, predictions0):\n",
    "    return predictions0 - y\n",
    "\n",
    "def rmse(errors):\n",
    "    rmse_out = np.sqrt(errors.dot(errors)/errors.shape[0])\n",
    "    return rmse_out\n",
    "\n",
    "def gradient(errors, x):\n",
    "    m = x.shape[0]\n",
    "    gradients = errors.dot(x) / m\n",
    "    return gradients\n",
    "    \n",
    "def grad_desc(x, y, init_params, iterate=100, alpha=0.01):\n",
    "    params1 = init_params; counter = 0; rmse_list = []\n",
    "    # in each iteration\n",
    "    while counter != iterate:\n",
    "        # the parameter from the last iteration becomes \n",
    "        # the old parameter in this iteration\n",
    "        params0 = params1 \n",
    "        # make predictions using parameters.\n",
    "        predictions0 = predict(x, params0)\n",
    "        # calculate error\n",
    "        err0 = error(y, predictions0)\n",
    "        # calculate RMSE and append into a list\n",
    "        rmse_list.append(rmse(err0))\n",
    "        # calculate change in cost with respect to parameters, i.e. the gradients\n",
    "        gradients = gradient(err0, x)\n",
    "        # update parameters\n",
    "        params1 = params0 - alpha * gradients\n",
    "        # repeat.\n",
    "        counter += 1\n",
    "    # return last parameters, and the errors in each iteration.\n",
    "    return params1, rmse_list"
   ]
  },
  {
   "cell_type": "markdown",
   "metadata": {},
   "source": [
    "The parameters, according to the implementation above, are:"
   ]
  },
  {
   "cell_type": "code",
   "execution_count": 4,
   "metadata": {
    "collapsed": false
   },
   "outputs": [
    {
     "data": {
      "text/html": [
       "<div>\n",
       "<style>\n",
       "    .dataframe thead tr:only-child th {\n",
       "        text-align: right;\n",
       "    }\n",
       "\n",
       "    .dataframe thead th {\n",
       "        text-align: left;\n",
       "    }\n",
       "\n",
       "    .dataframe tbody tr th {\n",
       "        vertical-align: top;\n",
       "    }\n",
       "</style>\n",
       "<table border=\"1\" class=\"dataframe\">\n",
       "  <thead>\n",
       "    <tr style=\"text-align: right;\">\n",
       "      <th></th>\n",
       "      <th>AT</th>\n",
       "      <th>V</th>\n",
       "      <th>AP</th>\n",
       "      <th>RH</th>\n",
       "    </tr>\n",
       "  </thead>\n",
       "  <tbody>\n",
       "    <tr>\n",
       "      <th>True</th>\n",
       "      <td>-1.678056</td>\n",
       "      <td>-0.272647</td>\n",
       "      <td>0.502796</td>\n",
       "      <td>-0.099927</td>\n",
       "    </tr>\n",
       "    <tr>\n",
       "      <th>Gradient Descent</th>\n",
       "      <td>-0.261119</td>\n",
       "      <td>-0.913232</td>\n",
       "      <td>0.492466</td>\n",
       "      <td>0.137685</td>\n",
       "    </tr>\n",
       "  </tbody>\n",
       "</table>\n",
       "</div>"
      ],
      "text/plain": [
       "                        AT         V        AP        RH\n",
       "True             -1.678056 -0.272647  0.502796 -0.099927\n",
       "Gradient Descent -0.261119 -0.913232  0.492466  0.137685"
      ]
     },
     "execution_count": 4,
     "metadata": {},
     "output_type": "execute_result"
    }
   ],
   "source": [
    "# Set the initial parameters of the model.\n",
    "np.random.seed(504)\n",
    "init_params = np.random.random(x.shape[1])\n",
    "\n",
    "# Settings for the model.\n",
    "iterations = 15000; alpha = 0.0000018\n",
    "params1, rmse_list = grad_desc(x, y, init_params, iterate=iterations, alpha=alpha)\n",
    "predictions1 = predict(x, params1)\n",
    "pd.DataFrame([true_params, params1], columns=features, index=['True', 'Gradient Descent'])"
   ]
  },
  {
   "cell_type": "code",
   "execution_count": 5,
   "metadata": {
    "collapsed": false
   },
   "outputs": [
    {
     "data": {
      "image/png": "[encoded data removed]",
      "text/plain": [
       "<matplotlib.figure.Figure at 0x2604ce22668>"
      ]
     },
     "metadata": {},
     "output_type": "display_data"
    }
   ],
   "source": [
    "plt.title('Plot of RMSE against Iteration')\n",
    "plt.plot(range(len(rmse_list)), rmse_list, label='RMSE over iterations')\n",
    "sklearn_rmse = rmse(error(y, predict(x, true_params)))\n",
    "plt.hlines(sklearn_rmse, xmin=0, xmax=iterations, label='True RMSE')\n",
    "plt.ylabel('Cost')\n",
    "plt.xlabel('Iterations')\n",
    "plt.legend(loc='best')\n",
    "plt.show()"
   ]
  },
  {
   "cell_type": "markdown",
   "metadata": {},
   "source": [
    "In the plain implemention of gradient descent, the returned parameters are still some way away from the true parameters given the number of iterations specified. \n",
    "\n",
    "Finding the right learning rate (0.000001 in this demonstration) is crucial to ensure that gradient descent is able to converge to a set of optimized parameters. The learning rate at this point is close to the largest learning rate that can be used. When the learning rate is increased by 10%, the cost (rmse) exploded:"
   ]
  },
  {
   "cell_type": "code",
   "execution_count": 6,
   "metadata": {
    "collapsed": false,
    "scrolled": false
   },
   "outputs": [
    {
     "name": "stderr",
     "output_type": "stream",
     "text": [
      "D:\\Program\\Anaconda3\\lib\\site-packages\\ipykernel\\__main__.py:32: RuntimeWarning: invalid value encountered in subtract\n"
     ]
    },
    {
     "data": {
      "image/png": "[encoded data removed]",
      "text/plain": [
       "<matplotlib.figure.Figure at 0x2604bfdcdd8>"
      ]
     },
     "metadata": {},
     "output_type": "display_data"
    }
   ],
   "source": [
    "# increase the learning rate, alpha, by 10%\n",
    "alpha_large = alpha * 1.1\n",
    "params2, rmse_list2 = grad_desc(x, y, init_params, iterate=iterations, alpha=alpha_large)\n",
    "\n",
    "plt.title('Plot of RMSE against Iteration')\n",
    "plt.plot(range(len(rmse_list)), rmse_list, label='learning rate=%.7f' %alpha)\n",
    "plt.plot(range(len(rmse_list2)), rmse_list2, label='learning rate=%.7f' %alpha_large)\n",
    "sklearn_rmse = rmse(error(y, predict(x, true_params)))\n",
    "plt.hlines(sklearn_rmse, xmin=0, xmax=iterations, label='True RMSE')\n",
    "plt.ylabel('Cost')\n",
    "plt.xlabel('Iterations')\n",
    "plt.legend(loc='best')\n",
    "plt.show()"
   ]
  },
  {
   "cell_type": "markdown",
   "metadata": {},
   "source": [
    "# Strategy 1: Damping the Gradient - Momentum"
   ]
  },
  {
   "cell_type": "markdown",
   "metadata": {},
   "source": [
    "## Momentum\n",
    "\n",
    "_Adapted from Lecture 6c (https://www.coursera.org/learn/neural-networks/lecture/Oya9a/the-momentum-method) of Coursera Course, Neural Network for Machine Learning by Geoffrey Hinton (with Nitish Srivastava and Kevin Swersky)._\n",
    "\n",
    "In physics, momentum is given by Newton's $1^{st}$ law of motion, which states that _every object will remain at rest or in uniform motion in a straight line unless compelled to change it's state_ (it's velocity) _by the action of an external force_. When you catch a basketball thrown at you, you can feel the ball still moving towards you as you catch it. That is the momentum of the ball. Catching the ball applies some force against the motion of the ball, slowing it down.\n",
    "\n",
    "Momentum, in the physics sense described above, is given by the equation:\n",
    "\n",
    "$momentum = mv$ \n",
    "\n",
    "where $m$ is the mass of an object, and $v$ is the velocity of an object. \n",
    "\n",
    "In gradient descent, the concept of momentum has a velocity term, $v$, and a momentum term, $\\rho$, introduced (eq 1).\n",
    "\n",
    "$v_t = \\rho v_{t-1} - \\alpha \\frac{\\partial J}{\\partial\\theta}_{(t)}$---   (1)\n",
    "\n",
    "$v_t$ depends on $v_{t-1}$ (the velocity in the previous iteration) and $\\alpha \\frac{\\partial J}{\\partial \\theta}$ (a term we are familiar with in the plain gradient descent method). $\\rho$\\*\\* is the positive momentum term (usually with a value close to 1) and $\\alpha$\\*\\* is the familiar learning rate. \n",
    "\n",
    "Instead of updating each parameter, $\\theta$, by $\\alpha \\frac{\\partial J}{\\partial \\theta}$, the parameter is updated by $v_t$:\n",
    "\n",
    "$$\\theta_{t} = \\theta_{t-1} + v_{t}-(2)$$\n",
    "\n",
    "Some intuitions behind the momentum method:\n",
    "\n",
    "* **The $\\rho v_{t-1}$ term is analogous to the momentum of the parameters (the basketball).** \n",
    "\n",
    "In the calculations of $v_t$, we see that the velocity, $v_{t-1}$, from the previous iteration is involved. This is as if the new parameter update carries the momentum of the previous iteration.\n",
    "\n",
    "* **$-\\alpha \\frac{\\partial J}{\\partial\\theta_{(t)}}$ is analogous to the force applied to \"catch\" the parameters (the basketball).**\n",
    "\n",
    "When $-\\alpha \\frac{\\partial J}{\\partial\\theta_{(t)}}$ has a different sign from $\\rho v_{t_1}$, it is acting in the opposite direction of the basketball, opposing it and slowing it down. \n",
    "\n",
    "When $-\\alpha \\frac{\\partial J}{\\partial\\theta_{(t)}}$ has the same sign as $\\rho v_{t_1}$, it is acting in the direction of the basketball, giving it extra force to more even faster towards \"you\", the optimal point (this of course does not happen in real world physics).\n",
    "\n",
    "\\*\\*_In Hinton's coursera class, he expressed the momentum term and the learning rate as $\\alpha$ and $\\epsilon$ respectively. To maintain consistency in this post, I've expressed the momentum term as $\\rho$ (in line with physics) and kept the expression for the learning rate as $\\alpha$ instead. Other literature may express these 2 terms differently._"
   ]
  },
  {
   "cell_type": "code",
   "execution_count": 7,
   "metadata": {
    "collapsed": false
   },
   "outputs": [
    {
     "data": {
      "text/html": [
       "<div>\n",
       "<style>\n",
       "    .dataframe thead tr:only-child th {\n",
       "        text-align: right;\n",
       "    }\n",
       "\n",
       "    .dataframe thead th {\n",
       "        text-align: left;\n",
       "    }\n",
       "\n",
       "    .dataframe tbody tr th {\n",
       "        vertical-align: top;\n",
       "    }\n",
       "</style>\n",
       "<table border=\"1\" class=\"dataframe\">\n",
       "  <thead>\n",
       "    <tr style=\"text-align: right;\">\n",
       "      <th></th>\n",
       "      <th>AT</th>\n",
       "      <th>V</th>\n",
       "      <th>AP</th>\n",
       "      <th>RH</th>\n",
       "    </tr>\n",
       "  </thead>\n",
       "  <tbody>\n",
       "    <tr>\n",
       "      <th>True</th>\n",
       "      <td>-1.678056</td>\n",
       "      <td>-0.272647</td>\n",
       "      <td>0.502796</td>\n",
       "      <td>-0.099927</td>\n",
       "    </tr>\n",
       "    <tr>\n",
       "      <th>Gradient Descent</th>\n",
       "      <td>-0.261119</td>\n",
       "      <td>-0.913232</td>\n",
       "      <td>0.492466</td>\n",
       "      <td>0.137685</td>\n",
       "    </tr>\n",
       "    <tr>\n",
       "      <th>Momentum</th>\n",
       "      <td>-1.438184</td>\n",
       "      <td>-0.385313</td>\n",
       "      <td>0.501513</td>\n",
       "      <td>-0.063015</td>\n",
       "    </tr>\n",
       "  </tbody>\n",
       "</table>\n",
       "</div>"
      ],
      "text/plain": [
       "                        AT         V        AP        RH\n",
       "True             -1.678056 -0.272647  0.502796 -0.099927\n",
       "Gradient Descent -0.261119 -0.913232  0.492466  0.137685\n",
       "Momentum         -1.438184 -0.385313  0.501513 -0.063015"
      ]
     },
     "execution_count": 7,
     "metadata": {},
     "output_type": "execute_result"
    }
   ],
   "source": [
    "def calc_velocity(prev_vel, curr_grad, rho=0.9, alpha=0.1):\n",
    "    return rho*prev_vel - alpha*curr_grad\n",
    "\n",
    "def grad_desc_momentum(x, y, init_params, iterate=100, alpha=0.1, rho=0.9):\n",
    "    params1 = init_params; counter = 0; rmse_list = []\n",
    "    velocity_1 = np.zeros(x.shape[1])\n",
    "    # in each iteration\n",
    "    while counter != iterate:\n",
    "        # the parameter from the last iteration becomes \n",
    "        # the old parameter in this iteration\n",
    "        # Velocity from the last iterations also becomes\n",
    "        # the old velocity in this iteration.\n",
    "        params0 = params1 \n",
    "        velocity_0, velocity_1 = velocity_1, None\n",
    "        # make predictions using parameters.\n",
    "        predictions0 = predict(x, params0)\n",
    "        # calculate error\n",
    "        err0 = error(y, predictions0)\n",
    "        # calculate RMSE and append into a list\n",
    "        rmse_list.append(rmse(err0))\n",
    "        # calculate change in cost with respect to parameters, i.e. the gradients\n",
    "        gradients = gradient(err0, x)\n",
    "        # adjust rho according to the maximum magnitude of gradients.\n",
    "        # This is to ensure a small rho while large gradients are still present.\n",
    "        # as recommended by Geoffery Hinton\n",
    "        '''My code here.'''\n",
    "        max_grad = np.max(gradients)\n",
    "        if max_grad > 10:\n",
    "            grad_scale = np.log10(max_grad)\n",
    "        else:\n",
    "            grad_scale = 1\n",
    "        if grad_scale > 1.:\n",
    "            min_rho = max(0.5, rho - (0.5 * (grad_scale - 1.)/grad_scale))\n",
    "            rho_ = min(rho, min_rho)\n",
    "        else:\n",
    "            rho_ = rho\n",
    "        # update parameters\n",
    "        # this time with the velocity term\n",
    "        velocity_1 = calc_velocity(velocity_0, gradients, rho_, alpha)\n",
    "        params1 = params0 + velocity_1\n",
    "        # repeat.\n",
    "        counter += 1\n",
    "    # return last parameters, and the errors in each iteration.\n",
    "    return params1, rmse_list\n",
    "\n",
    "params_momentum, rmse_list_momentum\\\n",
    " = grad_desc_momentum(x, y, init_params, iterate=iterations, alpha=alpha, rho=0.9)\n",
    "pd.DataFrame([true_params, params1, params_momentum]\n",
    "         , columns=features, index=['True', 'Gradient Descent', 'Momentum'])"
   ]
  },
  {
   "cell_type": "code",
   "execution_count": 8,
   "metadata": {
    "collapsed": false
   },
   "outputs": [
    {
     "data": {
      "image/png": "[encoded data removed]",
      "text/plain": [
       "<matplotlib.figure.Figure at 0x2604ce770b8>"
      ]
     },
     "metadata": {},
     "output_type": "display_data"
    }
   ],
   "source": [
    "plt.title('Plot of RMSE against Iteration')\n",
    "# plt.plot(range(len(rmse_list)), rmse_list, label='rmse plain')\n",
    "# plt.plot(range(len(rmse_list_adapt)), rmse_list_adapt, label='rmse adaptive learning')\n",
    "plt.plot(range(len(rmse_list)), rmse_list, label='plain gradient descent')\n",
    "plt.plot(range(len(rmse_list_momentum)), rmse_list_momentum, label='momentum')\n",
    "sklearn_rmse = rmse(error(y, predict(x, true_params)))\n",
    "# plt.axis(ymax=rmse_list[0], ymin=454.3)\n",
    "plt.hlines(sklearn_rmse, xmin=0, xmax=iterations, label='rmse from sklearn predictions')\n",
    "plt.legend(loc='best')\n",
    "plt.axis(ymax=50, ymin=0)\n",
    "plt.show()"
   ]
  },
  {
   "cell_type": "markdown",
   "metadata": {},
   "source": [
    "The momentum method is able to achieve optimality faster than the plain implementation of gradient descent. \n",
    "\n",
    "A faster learning rate can also be used with the momentum method, increasing the speed of the algorithm."
   ]
  },
  {
   "cell_type": "code",
   "execution_count": 9,
   "metadata": {
    "collapsed": false
   },
   "outputs": [
    {
     "data": {
      "image/png": "[encoded data removed]",
      "text/plain": [
       "<matplotlib.figure.Figure at 0x2604c9ad0b8>"
      ]
     },
     "metadata": {},
     "output_type": "display_data"
    }
   ],
   "source": [
    "params_momentum2, rmse_list_momentum2\\\n",
    " = grad_desc_momentum(x, y, init_params, iterate=iterations, alpha=alpha*1.8, rho=0.9)\n",
    "pd.DataFrame([true_params, params1, params_momentum, params_momentum2]\n",
    "         , columns=features, index=['True', 'Gradient Descent', 'Momentum', 'Momentum, larger learning rate'])\n",
    "\n",
    "plt.title('Plot of RMSE against Iteration')\n",
    "# plt.plot(range(len(rmse_list)), rmse_list, label='rmse plain')\n",
    "# plt.plot(range(len(rmse_list_adapt)), rmse_list_adapt, label='rmse adaptive learning')\n",
    "plt.plot(range(len(rmse_list)), rmse_list, label='plain gradient descent')\n",
    "plt.plot(range(len(rmse_list_momentum)), rmse_list_momentum, label='momentum, LR = alpha')\n",
    "plt.plot(range(len(rmse_list_momentum2)), rmse_list_momentum2, label='momentum, LR = alpha*1.8')\n",
    "sklearn_rmse = rmse(error(y, predict(x, true_params)))\n",
    "# plt.axis(ymax=rmse_list[0], ymin=454.3)\n",
    "plt.hlines(sklearn_rmse, xmin=0, xmax=iterations, label='rmse from sklearn predictions')\n",
    "plt.legend(loc='best')\n",
    "plt.ylim((0, 50))\n",
    "plt.show()"
   ]
  },
  {
   "cell_type": "markdown",
   "metadata": {},
   "source": [
    "Still, eventually the gradients will increase without bounds when the learning rate is too fast."
   ]
  },
  {
   "cell_type": "markdown",
   "metadata": {},
   "source": [
    "# Strategy 2: The Adpative Learning Rate - Gain and Rprop"
   ]
  },
  {
   "cell_type": "markdown",
   "metadata": {},
   "source": [
    "## Gain\n",
    "\n",
    "_Adapted from Lecture 6d (https://www.coursera.org/learn/neural-networks/lecture/NHxnS/adaptive-learning-rates-for-each-connection) of Coursera Course, Neural Network for Machine Learning by Geoffrey Hinton (with Nitish Srivastava and Kevin Swersky)._\n",
    "\n",
    "In adaptive learning rate, gain, g, is introduced. Gain introduces an multiplicative factor for each parameter to adjust the learning rate:\n",
    "\n",
    "$\\theta_i = \\theta_i - \\alpha * g_i * \\frac{\\partial J}{\\partial \\theta_i}$\n",
    "\n",
    "where: \n",
    "\n",
    "* $J$ is the cost function.\n",
    "* $\\theta_i$ represents parameter i.\n",
    "* $\\frac{\\partial J}{\\partial \\theta_i}$ is the partial differentiation of the cost function with respect to $\\theta_i$, i.e. the gradient at $\\theta_i$.\n",
    "* $\\alpha$ is the learning rate.\n",
    "* $g_i$ is the gain of parameter i.\n",
    "\n",
    "Gain starts at 1 for all parameters, and changes according to 2 simple rules:\n",
    "\n",
    "* If $\\frac{\\partial J}{\\partial \\theta_i}$ in the current iteration has the same sign as $\\frac{\\partial J}{\\partial \\theta_i}$ in the previous iteration, add a small number, e.g. 0.05, to gain. The effective learning rate for that parameter is increased since the parameter has not crossed the minimum point and land on the other side of the curve.\n",
    "* If $\\frac{\\partial J}{\\partial \\theta_i}$ in the current iteration has a different sign from $\\frac{\\partial J}{\\partial \\theta_i}$ in the previous iteration, multiply the gain by 1 minus a small number e.g. (1 - 0.05). The effective learning rate for that parameter is reduced since the gain is reduced to a fraction of what it once was."
   ]
  },
  {
   "cell_type": "code",
   "execution_count": 10,
   "metadata": {
    "collapsed": false
   },
   "outputs": [],
   "source": [
    "def adaptive_learning(grad_prev, grad0, g, delta=0.05): # let delta be the small number.\n",
    "    for i, (old, now) in enumerate(zip(grad_prev, grad0)):\n",
    "        # if the signs of the gradients are the same\n",
    "        if (old > 0) == (now > 0):\n",
    "            # increase g[i] by delta\n",
    "            g[i] += delta\n",
    "        # else the signs of the gradients are different.\n",
    "        else:\n",
    "            # decrease g[i] by (1 - delta) %\n",
    "            g[i] *= (1 - delta)"
   ]
  },
  {
   "cell_type": "code",
   "execution_count": 11,
   "metadata": {
    "collapsed": false
   },
   "outputs": [
    {
     "data": {
      "text/html": [
       "<div>\n",
       "<style>\n",
       "    .dataframe thead tr:only-child th {\n",
       "        text-align: right;\n",
       "    }\n",
       "\n",
       "    .dataframe thead th {\n",
       "        text-align: left;\n",
       "    }\n",
       "\n",
       "    .dataframe tbody tr th {\n",
       "        vertical-align: top;\n",
       "    }\n",
       "</style>\n",
       "<table border=\"1\" class=\"dataframe\">\n",
       "  <thead>\n",
       "    <tr style=\"text-align: right;\">\n",
       "      <th></th>\n",
       "      <th>AT</th>\n",
       "      <th>V</th>\n",
       "      <th>AP</th>\n",
       "      <th>RH</th>\n",
       "    </tr>\n",
       "  </thead>\n",
       "  <tbody>\n",
       "    <tr>\n",
       "      <th>True</th>\n",
       "      <td>-1.678056</td>\n",
       "      <td>-0.272647</td>\n",
       "      <td>0.502796</td>\n",
       "      <td>-0.099927</td>\n",
       "    </tr>\n",
       "    <tr>\n",
       "      <th>Gradient Descent</th>\n",
       "      <td>-0.261119</td>\n",
       "      <td>-0.913232</td>\n",
       "      <td>0.492466</td>\n",
       "      <td>0.137685</td>\n",
       "    </tr>\n",
       "    <tr>\n",
       "      <th>Momentum</th>\n",
       "      <td>-1.438184</td>\n",
       "      <td>-0.385313</td>\n",
       "      <td>0.501513</td>\n",
       "      <td>-0.063015</td>\n",
       "    </tr>\n",
       "    <tr>\n",
       "      <th>Adaptive Learning</th>\n",
       "      <td>-1.661593</td>\n",
       "      <td>-0.280470</td>\n",
       "      <td>0.502681</td>\n",
       "      <td>-0.096976</td>\n",
       "    </tr>\n",
       "  </tbody>\n",
       "</table>\n",
       "</div>"
      ],
      "text/plain": [
       "                         AT         V        AP        RH\n",
       "True              -1.678056 -0.272647  0.502796 -0.099927\n",
       "Gradient Descent  -0.261119 -0.913232  0.492466  0.137685\n",
       "Momentum          -1.438184 -0.385313  0.501513 -0.063015\n",
       "Adaptive Learning -1.661593 -0.280470  0.502681 -0.096976"
      ]
     },
     "execution_count": 11,
     "metadata": {},
     "output_type": "execute_result"
    }
   ],
   "source": [
    "def grad_desc2(x, y, init_params, iterate=100, alpha=0.01, delta=0.05):\n",
    "    params1 = init_params; counter = 0; rmse_list = []\n",
    "    g = np.ones(x.shape[1]) # g is the gain\n",
    "    # in each iteration\n",
    "    while counter < iterate:\n",
    "        # the parameter from the last iteration becomes \n",
    "        # the old parameter in this iteration\n",
    "        params0 = params1 \n",
    "        # make predictions using parameters.\n",
    "        predictions0 = predict(x, params0)\n",
    "        # calculate error\n",
    "        err0 = error(y, predictions0)\n",
    "        # calculate RMSE and append into a list\n",
    "        rmse_list.append(rmse(err0))\n",
    "        # calculate change in cost with respect to parameters, i.e. the gradients\n",
    "        gradients = gradient(err0, x)\n",
    "        \n",
    "        # what is the sign of he current gradient compared to the previous gradients?\n",
    "        # adjust the learning rate.\n",
    "        try:\n",
    "            adaptive_learning(grad_prev, gradients, g, delta=delta)\n",
    "        except:\n",
    "            pass\n",
    "        \n",
    "        # update parameters\n",
    "        params1 = params0 - alpha * g * gradients\n",
    "        \n",
    "        # prepare for the next iteration\n",
    "        counter += 1\n",
    "        grad_prev = gradients\n",
    "        \n",
    "    # return last parameters, and the errors in each iteration.\n",
    "    return params1, rmse_list, g\n",
    "\n",
    "# reduce the number of iterations as well.\n",
    "iterations2 = int(0.25*iterations)\n",
    "params_adapt, rmse_list_adapt, gain = grad_desc2(x, y, init_params, iterate=iterations2, alpha=alpha)\n",
    "pd.DataFrame([true_params, params1, params_momentum, params_adapt]\n",
    "         , columns=features, index=['True', 'Gradient Descent', 'Momentum', 'Adaptive Learning'])"
   ]
  },
  {
   "cell_type": "markdown",
   "metadata": {},
   "source": [
    "The adpative learning rate is able to learn a set of parameters that are closer to the true parameters."
   ]
  },
  {
   "cell_type": "code",
   "execution_count": 12,
   "metadata": {
    "collapsed": false,
    "scrolled": true
   },
   "outputs": [
    {
     "data": {
      "image/png": "[encoded data removed]",
      "text/plain": [
       "<matplotlib.figure.Figure at 0x2604e5e4908>"
      ]
     },
     "metadata": {},
     "output_type": "display_data"
    }
   ],
   "source": [
    "plt.title('Plot of RMSE against Iteration')\n",
    "plt.plot(range(len(rmse_list)), rmse_list, label='plain gradient descent')\n",
    "plt.plot(range(len(rmse_list_momentum)), rmse_list_momentum, label='momentum')\n",
    "plt.plot(range(len(rmse_list_adapt)), rmse_list_adapt, label='adaptive learning')\n",
    "sklearn_rmse = rmse(error(y, predict(x, true_params)))\n",
    "plt.hlines(sklearn_rmse, xmin=0, xmax=iterations, label='True RMSE')\n",
    "plt.ylabel('Cost')\n",
    "plt.xlabel('Iterations')\n",
    "plt.legend(loc='best')\n",
    "plt.xlim([0, iterations2])\n",
    "plt.ylim([0, 50])\n",
    "plt.show()"
   ]
  },
  {
   "cell_type": "markdown",
   "metadata": {},
   "source": [
    "Just over 2000 iterations for the parameters to converge.\n",
    "\n",
    "Here are the gain of each parameters."
   ]
  },
  {
   "cell_type": "code",
   "execution_count": 13,
   "metadata": {
    "collapsed": false
   },
   "outputs": [
    {
     "data": {
      "text/plain": [
       "array([ 187.7983373 ,   82.50709166,    0.61712146,   42.29823577])"
      ]
     },
     "execution_count": 13,
     "metadata": {},
     "output_type": "execute_result"
    }
   ],
   "source": [
    "# inspect gain.\n",
    "gain"
   ]
  },
  {
   "cell_type": "markdown",
   "metadata": {},
   "source": [
    "Inspection of gain shows that it is more than 1 for AT, V and RH, and less than 1 for AP. From the plain implementation of gradient descent, these 3 variables have parameters which deviate furthest away from the true values. This shows that AT, V and RH have relatively gentle slopes, hence it takes a longer time to converge using plain gradient descent. Using adaptive learning, the parameters converge in a smaller number of iterations."
   ]
  },
  {
   "cell_type": "markdown",
   "metadata": {},
   "source": [
    "## Rprop\n",
    "\n",
    "_Adapted from Lecture 6e (https://www.coursera.org/learn/neural-networks/lecture/YQHki/rmsprop-divide-the-gradient-by-a-running-average-of-its-recent-magnitude) of Coursera Course, Neural Network for Machine Learning by Geoffrey Hinton (with Nitish Srivastava and Kevin Swersky)._\n",
    "\n",
    "_A paper with the implementation detail can be found [here](http://citeseerx.ist.psu.edu/viewdoc/download;jsessionid=F65830196E60C686128898ECD61205ED?doi=10.1.1.21.3428&rep=rep1&type=pdf)*._\n",
    "\n",
    "Rprop (Resilient backpropagation) is similar to gain in that the signs of the current gradient and of the previous gradient are compared to decide on how to update the parameters. Rprop, however, deviates from what we have seen of far about gradient descent in that it does not rely on the value of the gradients to change the weights. It relies only on the sign of the gradient. The parameters are updated only \"by a weight-specific, so-called 'update-value' $\\vartriangle_{ij}^{(t)}$\" (Riedmiller, 1994). Think of $\\vartriangle_{ij}^{(t)}$ as $\\alpha*g$.\n",
    "\n",
    "When the signs of the gradients in the current iteration is different from the signs in the previous iteration, the optimal parameter value has already been \"stepped over\", hence we need to back track. The update-value is thus decreased by 0.5. If the gradients are the same, we can increase the update value by multiplying by 1.(\"Slight variations of this value did neither improve nor deterioate convergence time\", Riedmiller). \n",
    "\n",
    "* Gradients of the same sign $\\rightarrow$ update value, $\\vartriangle_{ij}(t) = \\vartriangle_{ij}(t-1) * 1.2$\n",
    "* Gradients of different signs $\\rightarrow$ update value, $\\vartriangle_{ij}(t) = \\vartriangle_{ij}(t-1) * 0.5$\n",
    "\n",
    "And the parameters are updated by $-sign(\\frac{\\partial E}{\\partial w_{ij}}(t)) *\\vartriangle_{ij}(t)$\n",
    "\n",
    "A recommendation, made in the implementation detail, is limiting the update value, $\\vartriangle_{ij}(t)$, to between $1*10^{-6}$ and $50.0$.\n",
    "\n",
    "\\*Riedmiller, Martin,. January 1994. _Rprop - Description and Implementation Details_. Technical Report. http://citeseerx.ist.psu.edu/viewdoc/download;jsessionid=F65830196E60C686128898ECD61205ED?doi=10.1.1.21.3428&rep=rep1&type=pdf"
   ]
  },
  {
   "cell_type": "code",
   "execution_count": 14,
   "metadata": {
    "collapsed": false
   },
   "outputs": [],
   "source": [
    "def rprop(params, grad_prev, grad0, update_vals, same_sign=1.2, diff_sign=0.5, update_max=50.0, update_min=10.0**-6):\n",
    "    for i, (old, now) in enumerate(zip(grad_prev, grad0)):\n",
    "        # if the signs of the gradients are the same\n",
    "        if old*now > 0 :\n",
    "            # increase the update_vals\n",
    "            update_vals[i] = min(update_vals[i]*same_sign, update_max)\n",
    "            # parameter chnage = sign of the current gradient * the update value\n",
    "            param_change = - (now/abs(now))*update_vals[i]\n",
    "            params[i] += param_change\n",
    "            grad_prev[i] = grad0[i]\n",
    "        # else the signs of the gradients are different or equilibrium reached.\n",
    "        else:\n",
    "            if old*now < 0:\n",
    "                update_vals[i] = max(update_vals[i]*diff_sign, update_min)\n",
    "                grad_prev[i] = 0 # if the gradients have different signs, the\n",
    "                                # parameter is only updated in the next iteration.\n",
    "            elif old*now == 0:\n",
    "                param_change = -(now/abs(now))*update_vals[i]\n",
    "                params[i] += param_change\n",
    "                grad_prev[i] = grad0[i]\n",
    "    return params, grad_prev, update_vals;"
   ]
  },
  {
   "cell_type": "code",
   "execution_count": 15,
   "metadata": {
    "collapsed": false,
    "scrolled": true
   },
   "outputs": [
    {
     "data": {
      "text/html": [
       "<div>\n",
       "<style>\n",
       "    .dataframe thead tr:only-child th {\n",
       "        text-align: right;\n",
       "    }\n",
       "\n",
       "    .dataframe thead th {\n",
       "        text-align: left;\n",
       "    }\n",
       "\n",
       "    .dataframe tbody tr th {\n",
       "        vertical-align: top;\n",
       "    }\n",
       "</style>\n",
       "<table border=\"1\" class=\"dataframe\">\n",
       "  <thead>\n",
       "    <tr style=\"text-align: right;\">\n",
       "      <th></th>\n",
       "      <th>AT</th>\n",
       "      <th>V</th>\n",
       "      <th>AP</th>\n",
       "      <th>RH</th>\n",
       "    </tr>\n",
       "  </thead>\n",
       "  <tbody>\n",
       "    <tr>\n",
       "      <th>True</th>\n",
       "      <td>-1.678056</td>\n",
       "      <td>-0.272647</td>\n",
       "      <td>0.502796</td>\n",
       "      <td>-0.099927</td>\n",
       "    </tr>\n",
       "    <tr>\n",
       "      <th>Gradient Descent</th>\n",
       "      <td>-0.261119</td>\n",
       "      <td>-0.913232</td>\n",
       "      <td>0.492466</td>\n",
       "      <td>0.137685</td>\n",
       "    </tr>\n",
       "    <tr>\n",
       "      <th>Momentum</th>\n",
       "      <td>-1.438184</td>\n",
       "      <td>-0.385313</td>\n",
       "      <td>0.501513</td>\n",
       "      <td>-0.063015</td>\n",
       "    </tr>\n",
       "    <tr>\n",
       "      <th>Adaptive Learning</th>\n",
       "      <td>-1.661593</td>\n",
       "      <td>-0.280470</td>\n",
       "      <td>0.502681</td>\n",
       "      <td>-0.096976</td>\n",
       "    </tr>\n",
       "    <tr>\n",
       "      <th>rprop</th>\n",
       "      <td>-1.679970</td>\n",
       "      <td>-0.271547</td>\n",
       "      <td>0.502784</td>\n",
       "      <td>-0.100072</td>\n",
       "    </tr>\n",
       "  </tbody>\n",
       "</table>\n",
       "</div>"
      ],
      "text/plain": [
       "                         AT         V        AP        RH\n",
       "True              -1.678056 -0.272647  0.502796 -0.099927\n",
       "Gradient Descent  -0.261119 -0.913232  0.492466  0.137685\n",
       "Momentum          -1.438184 -0.385313  0.501513 -0.063015\n",
       "Adaptive Learning -1.661593 -0.280470  0.502681 -0.096976\n",
       "rprop             -1.679970 -0.271547  0.502784 -0.100072"
      ]
     },
     "execution_count": 15,
     "metadata": {},
     "output_type": "execute_result"
    }
   ],
   "source": [
    "def grad_desc3(x, y, init_params, update_vals, iterate=100, **kwargs):\n",
    "    params1 = init_params.copy(); counter = 0; rmse_list = []; grad_prev = np.zeros(params1.shape);\n",
    "#     factor = np.ones(x.shape[1]) # something different from rprop\n",
    "    assert len(update_vals) == len(init_params), 'The length of updates_vals \\\n",
    "    and the length of init_paramters does not match';\n",
    "    # in each iteration\n",
    "    while counter < iterate:\n",
    "        # the parameter from the last iteration becomes \n",
    "        # the old parameter in this iteration\n",
    "        params0 = params1 \n",
    "        # make predictions using parameters.\n",
    "        predictions0 = predict(x, params0)\n",
    "        # calculate error\n",
    "        err0 = error(y, predictions0)\n",
    "        # calculate RMSE and append into a list\n",
    "        rmse_list.append(rmse(err0))\n",
    "        # calculate change in cost with respect to parameters, i.e. the gradients\n",
    "        gradients = gradient(err0, x)\n",
    "\n",
    "        params1, grad_prev, update_vals = rprop(params0, grad_prev, gradients, update_vals, **kwargs);\n",
    "                \n",
    "        # update parameters is performed in the rprop function\n",
    "        \n",
    "        # prepare for the next iteration\n",
    "        counter += 1\n",
    "        \n",
    "    # return last parameters, and the errors in each iteration.\n",
    "    return params1, rmse_list, update_vals;\n",
    "\n",
    "update_vals = np.ones(init_params.shape) * 0.1 ; # initialize the update value to the default value in (Martin, 1994).\n",
    "params_rprop, rmse_list_rprop, update_vals = grad_desc3(x, y, init_params, update_vals, iterate=iterations2)\n",
    "pd.DataFrame([true_params, params1, params_momentum, params_adapt, params_rprop]\n",
    "             , columns=features, index=['True', 'Gradient Descent', 'Momentum', 'Adaptive Learning', 'rprop'])"
   ]
  },
  {
   "cell_type": "code",
   "execution_count": 16,
   "metadata": {
    "collapsed": false,
    "scrolled": true
   },
   "outputs": [
    {
     "data": {
      "image/png": "[encoded data removed]",
      "text/plain": [
       "<matplotlib.figure.Figure at 0x2604e485e48>"
      ]
     },
     "metadata": {},
     "output_type": "display_data"
    }
   ],
   "source": [
    "plt.title('Plot of RMSE against Iteration')\n",
    "plt.plot(range(len(rmse_list)), rmse_list, label='plain gradient descent')\n",
    "plt.plot(range(len(rmse_list_momentum)), rmse_list_momentum, label='momentum')\n",
    "plt.plot(range(len(rmse_list_adapt)), rmse_list_adapt, label='adaptive learning')\n",
    "plt.plot(range(len(rmse_list_rprop)), rmse_list_rprop, label='rprop')\n",
    "sklearn_rmse = rmse(error(y, predict(x, true_params)))\n",
    "plt.hlines(sklearn_rmse, xmin=0, xmax=iterations, label='True RMSE')\n",
    "plt.ylabel('Cost')\n",
    "plt.xlabel('Iterations')\n",
    "plt.legend(loc='best')\n",
    "plt.xlim([0, iterations2])\n",
    "plt.ylim([0, 50])\n",
    "plt.show()"
   ]
  },
  {
   "cell_type": "markdown",
   "metadata": {},
   "source": [
    "The performance of rprop is even better than adaptive learning. \n",
    "\n",
    "Advantages of rprop: \n",
    "\n",
    "* it is not affected by the [vanishing graident](https://www.quora.com/What-is-the-vanishing-gradient-problem) problem as it does not relying on the value of the gradient to update the parameters. \n",
    "* Concerns about choosing the learning rate is gone as well since it is not used. \n",
    "\n",
    "Disadvantages of rprop: \n",
    "\n",
    "* Since the change in the update values are fixed, rprop may face some issue when the input is scaled incorrectly. \n",
    "* Rprop is not suitable for batch learning (Hinton). For batch learning, RMSProp, an adaptation of rprop, can be used instead. RMSProp will not be discussed in this post."
   ]
  },
  {
   "cell_type": "markdown",
   "metadata": {},
   "source": [
    "# Final Note\n",
    "\n",
    "The limitations of plain gradient descent may not be apparent when applied to \"normal\" machine learning algorithms. When applied to deep learning, however, its limitations show as there are many more parameters to learn (in the millions!), and parameters affect one another in a multiplicative way as the signals propagate from one layer to the next. Each parameter may require learning rate of different scale, or the same learning rate can be ineffective in latter part of the learning process due to issues like the vanish gradient problem. This has led to the different improvisations to gradient descent. This post only  highlighted 3 such adaptations for full batch learning. \n",
    "\n",
    "**Note**\n",
    "\n",
    "When it comes to batch learning, a different set of challenges for gradient descent is present, and hence different improvisations are needed."
   ]
  }
 ],
 "metadata": {
  "kernelspec": {
   "display_name": "Python 3",
   "language": "python",
   "name": "python3"
  },
  "language_info": {
   "codemirror_mode": {
    "name": "ipython",
    "version": 3
   },
   "file_extension": ".py",
   "mimetype": "text/x-python",
   "name": "python",
   "nbconvert_exporter": "python",
   "pygments_lexer": "ipython3",
   "version": "3.6.1"
  },
  "latex_envs": {
   "LaTeX_envs_menu_present": true,
   "autocomplete": true,
   "bibliofile": "biblio.bib",
   "cite_by": "apalike",
   "current_citInitial": 1,
   "eqLabelWithNumbers": true,
   "eqNumInitial": 1,
   "hotkeys": {
    "equation": "Ctrl-E",
    "itemize": "Ctrl-I"
   },
   "labels_anchors": false,
   "latex_user_defs": false,
   "report_style_numbering": false,
   "user_envs_cfg": false
  }
 },
 "nbformat": 4,
 "nbformat_minor": 2
}
