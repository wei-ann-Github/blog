{
 "cells": [
  {
   "cell_type": "markdown",
   "metadata": {},
   "source": [
    "Speed test for the time it takes to find the minimum value in a list."
   ]
  },
  {
   "cell_type": "code",
   "execution_count": 4,
   "metadata": {
    "collapsed": false
   },
   "outputs": [
    {
     "name": "stdout",
     "output_type": "stream",
     "text": [
      "Time taken for heap: 0.031263113021850586\n",
      "Time taken for min(): 2.0704636573791504\n"
     ]
    }
   ],
   "source": [
    "import heapq\n",
    "import random\n",
    "import time\n",
    "\n",
    "# Generate a list with significant length.\n",
    "length = 10000 # length of list\n",
    "\n",
    "ar = []\n",
    "for i in range(length): # list generation\n",
    "    ar.append(random.randint(0, length))\n",
    "\n",
    "ar_test = ar[:]\n",
    "num_tests = 5000 # Number of tests to conduct. \n",
    "                 # Large number of tests are needed else, the time taken will be very long\n",
    "\n",
    "# Testing heap structure\n",
    "start = time.time()\n",
    "\n",
    "heapq.heapify(ar_test)\n",
    "for i in range(num_tests):\n",
    "    minimum = heapq.heappop(ar_test)\n",
    "    heapq.heappush(ar_test, minimum) # heappop remove the smallest element in the heap. \n",
    "                                     # So, need to reinsert that element into heap\n",
    "print('Time taken for heap:', (time.time() - start))\n",
    "\n",
    "# Re-initialize the list\n",
    "ar_test = ar[:]\n",
    "\n",
    "# Testing min() function\n",
    "start = time.time()\n",
    "for i in range(num_tests):\n",
    "    min(ar_test)\n",
    "print('Time taken for min():', (time.time() - start))"
   ]
  },
  {
   "cell_type": "code",
   "execution_count": 38,
   "metadata": {
    "collapsed": false
   },
   "outputs": [
    {
     "name": "stderr",
     "output_type": "stream",
     "text": [
      "D:\\Program\\Anaconda2\\envs\\py35\\lib\\site-packages\\ipykernel\\__main__.py:7: RuntimeWarning: divide by zero encountered in log\n"
     ]
    },
    {
     "data": {
      "image/png": "[encoded data removed]",
      "text/plain": [
       "<matplotlib.figure.Figure at 0x20c783e7278>"
      ]
     },
     "metadata": {},
     "output_type": "display_data"
    }
   ],
   "source": [
    "import numpy as np\n",
    "from matplotlib import pyplot as plt\n",
    "\n",
    "% matplotlib inline\n",
    "\n",
    "numbers = [i for i in range(50)]\n",
    "log = np.log(numbers)/np.log(2)\n",
    "\n",
    "plt.plot(numbers, label='O(N)')\n",
    "plt.plot(numbers, log, label='O(logN)')\n",
    "# plt.legend('top right', handles=['linear'])\n",
    "# ax.legend(loc='upper left')\n",
    "plt.legend(loc='upper left')\n",
    "plt.title('Comparing O(N) with O(logN)')\n",
    "plt.xlabel('Length of Array')\n",
    "plt.ylabel('Runtime')\n",
    "plt.show()"
   ]
  }
 ],
 "metadata": {
  "kernelspec": {
   "display_name": "Python 3",
   "language": "python",
   "name": "python3"
  },
  "language_info": {
   "codemirror_mode": {
    "name": "ipython",
    "version": 3
   },
   "file_extension": ".py",
   "mimetype": "text/x-python",
   "name": "python",
   "nbconvert_exporter": "python",
   "pygments_lexer": "ipython3",
   "version": "3.5.2"
  }
 },
 "nbformat": 4,
 "nbformat_minor": 0
}
